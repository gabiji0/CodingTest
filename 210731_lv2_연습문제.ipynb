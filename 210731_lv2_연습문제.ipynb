{
 "cells": [
  {
   "cell_type": "markdown",
   "metadata": {},
   "source": [
    "## N개의 array의 최소공배수\n",
    "    두 수의 최소공배수(Least Common Multiple)란 입력된 두 수의 배수 중 공통이 되는 가장 작은 숫자를 의미합니다. 예를 들어 2와 7의 최소공배수는 14가 됩니다. 정의를 확장해서, n개의 수의 최소공배수는 n 개의 수들의 배수 중 공통이 되는 가장 작은 숫자가 됩니다. n개의 숫자를 담은 배열 arr이 입력되었을 때 이 수들의 최소공배수를 반환하는 함수, solution을 완성해 주세요.\n",
    "\n",
    "    제한 사항\n",
    "    arr은 길이 1이상, 15이하인 배열입니다.\n",
    "    arr의 원소는 100 이하인 자연수입니다."
   ]
  },
  {
   "cell_type": "code",
   "execution_count": 29,
   "metadata": {},
   "outputs": [
    {
     "name": "stdout",
     "output_type": "stream",
     "text": [
      "2\n",
      "60\n"
     ]
    }
   ],
   "source": [
    "## ref. a,b의 최대공약수\n",
    "a=10\n",
    "b=12\n",
    "for i in range(min(a,b),0, -1):\n",
    "    if a%i ==0 and b%i==0:\n",
    "        print(i)\n",
    "        break\n",
    "        \n",
    "## ref. a,b의 최소공배수\n",
    "for i in range(max(a,b), (a*b)+1):\n",
    "    if i%a==0 and i%b==0:\n",
    "        print(i)\n",
    "        break"
   ]
  },
  {
   "cell_type": "code",
   "execution_count": 33,
   "metadata": {},
   "outputs": [
    {
     "name": "stdout",
     "output_type": "stream",
     "text": [
      "168\n"
     ]
    },
    {
     "name": "stderr",
     "output_type": "stream",
     "text": [
      "<ipython-input-33-0fdbb0362113>:5: DeprecationWarning: fractions.gcd() is deprecated. Use math.gcd() instead.\n",
      "  answer = i * answer / gcd(i, answer)\n"
     ]
    }
   ],
   "source": [
    "from fractions import gcd # gcd: 최대공약수, lcm: 최소공배수\n",
    "def solution_nlcm(array):   \n",
    "    answer = array[0]\n",
    "    for i in array:\n",
    "        answer = i * answer / gcd(i, answer)\n",
    "    return answer\n",
    "\n",
    "# 테스트\n",
    "print(int(solution_nlcm([2,6,8,14])))"
   ]
  },
  {
   "attachments": {
    "image.png": {
     "image/png": "[encoded data removed]"
    }
   },
   "cell_type": "markdown",
   "metadata": {},
   "source": [
    "## 행렬의 곱셈\n",
    "    문제 설명\n",
    "    2차원 행렬 arr1과 arr2를 입력받아, arr1에 arr2를 곱한 결과를 반환하는 함수, solution을 완성해주세요.\n",
    "\n",
    "    제한 조건\n",
    "    행렬 arr1, arr2의 행과 열의 길이는 2 이상 100 이하입니다.\n",
    "    행렬 arr1, arr2의 원소는 -10 이상 20 이하인 자연수입니다.\n",
    "    곱할 수 있는 배열만 주어집니다.\n",
    "   ![image.png](attachment:image.png)"
   ]
  },
  {
   "cell_type": "markdown",
   "metadata": {},
   "source": [
    "    #ref :  _ underbar\n",
    "    #### 언패킹시 특정값을 무시\n",
    "    x, _, y = (1, 2, 3) # x = 1, y = 3\n",
    "\n",
    "    #### 여러개의 값 무시\n",
    "    x, *_, y = (1, 2, 3, 4, 5) # x = 1, y = 5\n",
    "\n",
    "    #### 인덱스 무시\n",
    "    for _ in range(10):\n",
    "        do_something()\n",
    "\n",
    "    #### 특정 위치의 값 무시\n",
    "    for _, val in list_of_tuple:\n",
    "        do_something()"
   ]
  },
  {
   "cell_type": "code",
   "execution_count": 38,
   "metadata": {},
   "outputs": [
    {
     "name": "stdout",
     "output_type": "stream",
     "text": [
      "[[15, 15], [15, 15], [15, 15]]\n"
     ]
    }
   ],
   "source": [
    "def solution_matrix(arr1, arr2):\n",
    "    answer = [[0 for _ in range(len(arr2[0]))] for _ in range(len(arr1))] # len(arr1) = arr1의 nrows (i), len(arr2[0]=arr2의 ncols (j)\n",
    "    for i in range(len(arr1)): #i = 1, 2, 3\n",
    "        for j in range(len(arr2[0])): # j = 1, 2\n",
    "            for k in range(len(arr1[0])): # k = 1, 2 : arr1의 ncols = arr2의 nrows\n",
    "                answer[i][j] += (arr1[i][k] * arr2[k][j])\n",
    "    return answer\n",
    "\n",
    "# 테스트\n",
    "print(solution_matrix([[1, 4], [3, 2], [4, 1]],[[3, 3], [3, 3]]))"
   ]
  },
  {
   "cell_type": "markdown",
   "metadata": {},
   "source": [
    "    ref: 다른 풀이\n",
    "    zip(* ) : 행과 열을 전치"
   ]
  },
  {
   "cell_type": "code",
   "execution_count": 45,
   "metadata": {},
   "outputs": [
    {
     "name": "stdout",
     "output_type": "stream",
     "text": [
      "[[15, 15], [15, 15], [15, 15]]\n"
     ]
    }
   ],
   "source": [
    "def productMatrix(A, B):\n",
    "    return [[sum(a*b for a, b in zip(A_row,B_col)) for B_col in zip(*B)] for A_row in A]\n",
    "# 테스트\n",
    "print(productMatrix([[1, 4], [3, 2], [4, 1]],[[3, 3], [3, 3]]))"
   ]
  },
  {
   "cell_type": "markdown",
   "metadata": {},
   "source": [
    "## JadenCase 문자열 만들기\n",
    "    문제 설명\n",
    "    JadenCase란 모든 단어의 첫 문자가 대문자이고, 그 외의 알파벳은 소문자인 문자열입니다. 문자열 s가 주어졌을 때, s를 JadenCase로 바꾼 문자열을 리턴하는 함수, solution을 완성해주세요.\n",
    "\n",
    "    제한 조건\n",
    "    s는 길이 1 이상인 문자열입니다.\n",
    "    s는 알파벳과 공백문자(\" \")로 이루어져 있습니다.\n",
    "    첫 문자가 영문이 아닐때에는 이어지는 영문은 소문자로 씁니다. ( 첫번째 입출력 예 참고 )"
   ]
  },
  {
   "cell_type": "code",
   "execution_count": 64,
   "metadata": {},
   "outputs": [
    {
     "name": "stdout",
     "output_type": "stream",
     "text": [
      "3people Unfollowed Me\n"
     ]
    }
   ],
   "source": [
    "def solution_JC(string):\n",
    "    answer = ''\n",
    "    for idx, i in enumerate(string): \n",
    "        if (idx == 0): answer = i.upper()\n",
    "        elif string[idx-1] == ' ': answer = ''.join([answer, i.upper()])\n",
    "        else: answer = ''.join([answer, i.lower()])\n",
    "    return answer\n",
    "# 테스트\n",
    "print(solution_JC(\"3people unFollowed me\"))"
   ]
  },
  {
   "cell_type": "markdown",
   "metadata": {},
   "source": [
    "## 피보나치\n",
    "        문제 설명\n",
    "        피보나치 수는 F(0) = 0, F(1) = 1일 때, 1 이상의 n에 대하여 F(n) = F(n-1) + F(n-2) 가 적용되는 수 입니다.\n",
    "\n",
    "        예를들어\n",
    "\n",
    "        F(2) = F(0) + F(1) = 0 + 1 = 1\n",
    "        F(3) = F(1) + F(2) = 1 + 1 = 2\n",
    "        F(4) = F(2) + F(3) = 1 + 2 = 3\n",
    "        F(5) = F(3) + F(4) = 2 + 3 = 5\n",
    "        와 같이 이어집니다.\n",
    "\n",
    "        2 이상의 n이 입력되었을 때, n번째 피보나치 수를 1234567으로 나눈 나머지를 리턴하는 함수, solution을 완성해 주세요.\n",
    "\n",
    "        제한 사항\n",
    "        * n은 1이상, 100000이하인 자연수입니다."
   ]
  },
  {
   "cell_type": "code",
   "execution_count": 65,
   "metadata": {},
   "outputs": [
    {
     "name": "stdout",
     "output_type": "stream",
     "text": [
      "2\n",
      "5\n"
     ]
    }
   ],
   "source": [
    "def solution_fibonacci(n):\n",
    "    Table = [0 for c in range(n+1)]\n",
    "    Table[1] = 1\n",
    "    for i in range(2, n+1):\n",
    "        Table[i] = (Table[i-1] + Table[i-2]) % 1234567\n",
    "\n",
    "    return Table[i]\n",
    "print(solution_fibonacci(3))\n",
    "print(solution_fibonacci(5))"
   ]
  },
  {
   "cell_type": "code",
   "execution_count": 59,
   "metadata": {},
   "outputs": [
    {
     "name": "stdout",
     "output_type": "stream",
     "text": [
      "2\n",
      "5\n"
     ]
    }
   ],
   "source": [
    "cache = [-1]*100\n",
    "def fibonacci(num):\n",
    "    if num == 0: return 0\n",
    "    if num == 1: return 1\n",
    "    if cache[num] != -1: return cache[num]\n",
    "    cache[num] = fibonacci(num-1) + fibonacci(num-2)\n",
    "    return cache[num]\n",
    "\n",
    "# 테스트\n",
    "print(fibonacci(3))\n",
    "print(fibonacci(5))"
   ]
  },
  {
   "cell_type": "code",
   "execution_count": 66,
   "metadata": {},
   "outputs": [
    {
     "name": "stdout",
     "output_type": "stream",
     "text": [
      "2\n",
      "5\n"
     ]
    }
   ],
   "source": [
    "def fibonacci(num):\n",
    "    a,b = 0,1\n",
    "    for i in range(num):\n",
    "        a,b = b,a+b\n",
    "    return a\n",
    "\n",
    "print(fibonacci(3))\n",
    "print(fibonacci(5))"
   ]
  },
  {
   "cell_type": "markdown",
   "metadata": {},
   "source": [
    "## 최솟값 만들기\n",
    "  "
   ]
  },
  {
   "cell_type": "code",
   "execution_count": 61,
   "metadata": {},
   "outputs": [
    {
     "name": "stdout",
     "output_type": "stream",
     "text": [
      "(1, 'A')\n",
      "(2, 'B')\n",
      "(3, 'C')\n"
     ]
    }
   ],
   "source": [
    "# ref : zip 내장함수\n",
    "numbers = [1, 2, 3]\n",
    "letters = [\"A\", \"B\", \"C\"]\n",
    "for pair in zip(numbers, letters):\n",
    "    print(pair)"
   ]
  },
  {
   "cell_type": "code",
   "execution_count": 63,
   "metadata": {},
   "outputs": [
    {
     "name": "stdout",
     "output_type": "stream",
     "text": [
      "10\n"
     ]
    }
   ],
   "source": [
    "def solution(A,B):\n",
    "    answer = 0\n",
    "    A = sorted(A)\n",
    "    B = sorted(B, reverse=True)\n",
    "\n",
    "    answer = sum([a * b for a, b in zip(A, B)])\n",
    "    return answer\n",
    "\n",
    "# 테스트\n",
    "print(solution([1,2],[3,4]))\n",
    "print(solution([1,2],[3,4]))"
   ]
  },
  {
   "cell_type": "markdown",
   "metadata": {},
   "source": [
    "## 숫자의 표현"
   ]
  },
  {
   "cell_type": "code",
   "execution_count": 67,
   "metadata": {},
   "outputs": [
    {
     "name": "stdout",
     "output_type": "stream",
     "text": [
      "4\n"
     ]
    }
   ],
   "source": [
    "def solution_num(n):\n",
    "    answer = 1\n",
    "    for i in range(1, n//2 + 1):\n",
    "        cnt = 0\n",
    "        for j in range(i, n+1): \n",
    "            cnt += j \n",
    "            if cnt == n: \n",
    "                answer += 1\n",
    "                break\n",
    "            elif cnt > n: break \n",
    "            else: continue\n",
    "    return answer\n",
    "#테스트\n",
    "print(solution_num(15))"
   ]
  },
  {
   "cell_type": "markdown",
   "metadata": {},
   "source": [
    "## 땅따먹기"
   ]
  },
  {
   "cell_type": "code",
   "execution_count": 68,
   "metadata": {},
   "outputs": [],
   "source": [
    "def solution(land):\n",
    "    for i in range(1, len(land)):\n",
    "        for j in range(len(land[0])):\n",
    "            land[i][j] = max(land[i -1][: j] + land[i - 1][j + 1:]) + land[i][j]\n",
    "    return max(land[-1])"
   ]
  },
  {
   "cell_type": "markdown",
   "metadata": {},
   "source": [
    "## 다음 큰 숫자"
   ]
  },
  {
   "cell_type": "code",
   "execution_count": 69,
   "metadata": {},
   "outputs": [],
   "source": [
    "from collections import Counter\n",
    "def two_change(n):\n",
    "    if n == 0: return ''\n",
    "    elif n % 2 == 0: return two_change(n//2) + '0'\n",
    "    else: return two_change(n//2) + '1'\n",
    "\n",
    "def count_one(n):\n",
    "    n = two_change(n)\n",
    "    n = Counter(list(n))\n",
    "    return n['1']\n",
    "\n",
    "def solution(n):\n",
    "    cnt = count_one(n)\n",
    "    for i in range(n+1, 1000001): \n",
    "    # 1. n의 2진수시에 1의 갯수 확인 \n",
    "        if cnt == (count_one(i)): return i "
   ]
  },
  {
   "cell_type": "code",
   "execution_count": 71,
   "metadata": {},
   "outputs": [
    {
     "name": "stdout",
     "output_type": "stream",
     "text": [
      "83\n"
     ]
    }
   ],
   "source": [
    "def nextBigNumber(n):\n",
    "    c = bin(n).count('1')\n",
    "    for m in range(n+1,1000001):\n",
    "        if bin(m).count('1') == c:\n",
    "            return m\n",
    "        \n",
    "print(nextBigNumber(78))"
   ]
  },
  {
   "cell_type": "code",
   "execution_count": null,
   "metadata": {},
   "outputs": [],
   "source": []
  }
 ],
 "metadata": {
  "kernelspec": {
   "display_name": "Python 3",
   "language": "python",
   "name": "python3"
  },
  "language_info": {
   "codemirror_mode": {
    "name": "ipython",
    "version": 3
   },
   "file_extension": ".py",
   "mimetype": "text/x-python",
   "name": "python",
   "nbconvert_exporter": "python",
   "pygments_lexer": "ipython3",
   "version": "3.8.5"
  }
 },
 "nbformat": 4,
 "nbformat_minor": 4
}
